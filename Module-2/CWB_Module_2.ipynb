{
  "nbformat": 4,
  "nbformat_minor": 0,
  "metadata": {
    "colab": {
      "provenance": []
    },
    "kernelspec": {
      "name": "python3",
      "display_name": "Python 3"
    },
    "language_info": {
      "name": "python"
    }
  },
  "cells": [
    {
      "cell_type": "markdown",
      "source": [
        "### Install Libraries"
      ],
      "metadata": {
        "id": "ZvdXoFXBxM3M"
      }
    },
    {
      "cell_type": "code",
      "execution_count": 14,
      "metadata": {
        "id": "-wdOkhNcoRwX"
      },
      "outputs": [],
      "source": [
        "#!pip install pypdf\n",
        "#!pip install chromadb\n",
        "#!pip install langchain-chroma\n",
        "#!pip install langchain-community\n",
        "#!pip install sentence-transformers"
      ]
    },
    {
      "cell_type": "markdown",
      "source": [
        "### Import Libraries"
      ],
      "metadata": {
        "id": "runXJVuuxSww"
      }
    },
    {
      "cell_type": "code",
      "source": [
        "from langchain_chroma import Chroma\n",
        "from langchain_community.document_loaders import PyPDFLoader\n",
        "from langchain_community.embeddings.sentence_transformer import (SentenceTransformerEmbeddings,)\n",
        "from langchain_text_splitters import RecursiveCharacterTextSplitter"
      ],
      "metadata": {
        "id": "0ukn-4g-p6LD"
      },
      "execution_count": 2,
      "outputs": []
    },
    {
      "cell_type": "markdown",
      "source": [
        "### Load the Document"
      ],
      "metadata": {
        "id": "yv8h-20rxgZB"
      }
    },
    {
      "cell_type": "code",
      "source": [
        "loader = PyPDFLoader(\"rag_data.pdf\")\n",
        "documents = loader.load()"
      ],
      "metadata": {
        "id": "JXUGH1WYxj4p"
      },
      "execution_count": 3,
      "outputs": []
    },
    {
      "cell_type": "markdown",
      "source": [
        "### Split into chunks"
      ],
      "metadata": {
        "id": "wgMx8MfTxm8f"
      }
    },
    {
      "cell_type": "code",
      "source": [
        "text_splitter = RecursiveCharacterTextSplitter(chunk_size=1000, chunk_overlap=50)\n",
        "docs = text_splitter.split_documents(documents)"
      ],
      "metadata": {
        "id": "BagaE_ZrxrnW"
      },
      "execution_count": 5,
      "outputs": []
    },
    {
      "cell_type": "markdown",
      "source": [
        "### Create Embeddings"
      ],
      "metadata": {
        "id": "7jDdfXovyH6S"
      }
    },
    {
      "cell_type": "code",
      "source": [
        "embedding_function = SentenceTransformerEmbeddings(model_name=\"all-MiniLM-L6-v2\")"
      ],
      "metadata": {
        "id": "KdDj0JUPyNIE"
      },
      "execution_count": 15,
      "outputs": []
    },
    {
      "cell_type": "markdown",
      "source": [
        "### Load into Chroma"
      ],
      "metadata": {
        "id": "JHPRaQ3NyQAD"
      }
    },
    {
      "cell_type": "code",
      "source": [
        "db = Chroma.from_documents(docs, embedding_function)"
      ],
      "metadata": {
        "id": "pCsNU-yKomGl"
      },
      "execution_count": 8,
      "outputs": []
    },
    {
      "cell_type": "markdown",
      "source": [
        "### Query the Database"
      ],
      "metadata": {
        "id": "6lM7mq-hyY8J"
      }
    },
    {
      "cell_type": "code",
      "source": [
        "query = \"explain the background for LLMs?\"\n",
        "docs = db.similarity_search(query)"
      ],
      "metadata": {
        "id": "OLZTIUWkqJ2i"
      },
      "execution_count": 10,
      "outputs": []
    },
    {
      "cell_type": "markdown",
      "source": [
        "### Get Relevant Chunks"
      ],
      "metadata": {
        "id": "F_V6jnSoy26G"
      }
    },
    {
      "cell_type": "code",
      "source": [
        "print(docs[0].page_content)"
      ],
      "metadata": {
        "id": "FCM_9wg2yzmB"
      },
      "execution_count": 16,
      "outputs": []
    },
    {
      "cell_type": "markdown",
      "source": [
        "### Congratulations you completed Module 2 !!"
      ],
      "metadata": {
        "id": "lZXnUoDfynfo"
      }
    }
  ]
}