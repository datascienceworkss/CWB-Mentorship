{
  "nbformat": 4,
  "nbformat_minor": 0,
  "metadata": {
    "colab": {
      "provenance": []
    },
    "kernelspec": {
      "name": "python3",
      "display_name": "Python 3"
    },
    "language_info": {
      "name": "python"
    }
  },
  "cells": [
    {
      "cell_type": "markdown",
      "source": [
        "### Install Libraries"
      ],
      "metadata": {
        "id": "ZvdXoFXBxM3M"
      }
    },
    {
      "cell_type": "code",
      "execution_count": null,
      "metadata": {
        "id": "-wdOkhNcoRwX",
        "collapsed": true
      },
      "outputs": [],
      "source": [
        "!pip install pypdf\n",
        "!pip install chromadb\n",
        "!pip install langchain-chroma\n",
        "!pip install langchain-community\n",
        "!pip install sentence-transformers"
      ]
    },
    {
      "cell_type": "markdown",
      "source": [
        "### Import Libraries"
      ],
      "metadata": {
        "id": "runXJVuuxSww"
      }
    },
    {
      "cell_type": "code",
      "source": [
        "from langchain_chroma import Chroma\n",
        "from langchain_community.document_loaders import PyPDFLoader\n",
        "from langchain_community.embeddings.sentence_transformer import (SentenceTransformerEmbeddings,)\n",
        "from langchain_text_splitters import RecursiveCharacterTextSplitter"
      ],
      "metadata": {
        "id": "0ukn-4g-p6LD"
      },
      "execution_count": null,
      "outputs": []
    },
    {
      "cell_type": "markdown",
      "source": [
        "### Load the Document"
      ],
      "metadata": {
        "id": "yv8h-20rxgZB"
      }
    },
    {
      "cell_type": "code",
      "source": [
        "loader = PyPDFLoader(\"rag_data.pdf\")\n",
        "documents = loader.load()"
      ],
      "metadata": {
        "id": "JXUGH1WYxj4p"
      },
      "execution_count": null,
      "outputs": []
    },
    {
      "cell_type": "markdown",
      "source": [
        "### Split into chunks"
      ],
      "metadata": {
        "id": "wgMx8MfTxm8f"
      }
    },
    {
      "cell_type": "code",
      "source": [
        "text_splitter = RecursiveCharacterTextSplitter(chunk_size=1000, chunk_overlap=50)\n",
        "docs = text_splitter.split_documents(documents)"
      ],
      "metadata": {
        "id": "BagaE_ZrxrnW"
      },
      "execution_count": null,
      "outputs": []
    },
    {
      "cell_type": "markdown",
      "source": [
        "### Create Embeddings"
      ],
      "metadata": {
        "id": "7jDdfXovyH6S"
      }
    },
    {
      "cell_type": "code",
      "source": [
        "embedding_function = SentenceTransformerEmbeddings(model_name=\"all-MiniLM-L6-v2\")"
      ],
      "metadata": {
        "id": "KdDj0JUPyNIE"
      },
      "execution_count": null,
      "outputs": []
    },
    {
      "cell_type": "markdown",
      "source": [
        "### Load into Chroma"
      ],
      "metadata": {
        "id": "JHPRaQ3NyQAD"
      }
    },
    {
      "cell_type": "code",
      "source": [
        "db = Chroma.from_documents(docs, embedding_function)"
      ],
      "metadata": {
        "id": "pCsNU-yKomGl"
      },
      "execution_count": null,
      "outputs": []
    },
    {
      "cell_type": "markdown",
      "source": [
        "### Query the Database"
      ],
      "metadata": {
        "id": "6lM7mq-hyY8J"
      }
    },
    {
      "cell_type": "code",
      "source": [
        "query = \"explain the background for LLMs?\"\n",
        "docs = db.similarity_search(query)"
      ],
      "metadata": {
        "id": "OLZTIUWkqJ2i"
      },
      "execution_count": null,
      "outputs": []
    },
    {
      "cell_type": "markdown",
      "source": [
        "### Get Relevant Chunks"
      ],
      "metadata": {
        "id": "F_V6jnSoy26G"
      }
    },
    {
      "cell_type": "code",
      "source": [
        "print(docs[0].page_content)"
      ],
      "metadata": {
        "id": "FCM_9wg2yzmB"
      },
      "execution_count": null,
      "outputs": []
    },
    {
      "cell_type": "markdown",
      "source": [
        "**Module 3**"
      ],
      "metadata": {
        "id": "kliFQx5sY-gx"
      }
    },
    {
      "cell_type": "markdown",
      "source": [
        "**Importing Libraries**"
      ],
      "metadata": {
        "id": "Mit_tvsIfQFB"
      }
    },
    {
      "cell_type": "code",
      "source": [
        "!pip install langchain-openai\n",
        "!pip install langchainhub"
      ],
      "metadata": {
        "collapsed": true,
        "id": "Bjv2VPiFfLRH"
      },
      "execution_count": null,
      "outputs": []
    },
    {
      "cell_type": "code",
      "source": [
        "import os\n",
        "from langchain_openai import ChatOpenAI\n",
        "from langchain_core.runnables import RunnablePassthrough\n",
        "from langchain_core.output_parsers import StrOutputParser\n",
        "from langchain import hub"
      ],
      "metadata": {
        "id": "E_bWG5xCicwI"
      },
      "execution_count": null,
      "outputs": []
    },
    {
      "cell_type": "code",
      "source": [
        "OPENAI_API_KEY = \"please_provide_your_key_here\""
      ],
      "metadata": {
        "id": "0o9XXrx3fc75"
      },
      "execution_count": null,
      "outputs": []
    },
    {
      "cell_type": "markdown",
      "source": [
        "**Provide the OpenAI API key**"
      ],
      "metadata": {
        "id": "qa_8NCN_ijDw"
      }
    },
    {
      "cell_type": "code",
      "source": [
        "os.environ[\"OPENAI_API_KEY\"] = OPENAI_API_KEY"
      ],
      "metadata": {
        "id": "9zcr7ljPfZ94"
      },
      "execution_count": null,
      "outputs": []
    },
    {
      "cell_type": "markdown",
      "source": [
        "**LLM**"
      ],
      "metadata": {
        "id": "RvFrvXKeitAo"
      }
    },
    {
      "cell_type": "code",
      "source": [
        "\n",
        "llm = ChatOpenAI(model=\"gpt-3.5-turbo-0125\")\n"
      ],
      "metadata": {
        "id": "BYElEq7IggZa"
      },
      "execution_count": null,
      "outputs": []
    },
    {
      "cell_type": "markdown",
      "source": [
        "**Prompt**"
      ],
      "metadata": {
        "id": "15knhImljO0T"
      }
    },
    {
      "cell_type": "code",
      "source": [
        "\n",
        "prompt = hub.pull(\"rlm/rag-prompt\")\n"
      ],
      "metadata": {
        "id": "67eiiM9ogmrQ"
      },
      "execution_count": null,
      "outputs": []
    },
    {
      "cell_type": "code",
      "source": [
        "prompt"
      ],
      "metadata": {
        "collapsed": true,
        "id": "JD2vZJ_KjSP0"
      },
      "execution_count": null,
      "outputs": []
    },
    {
      "cell_type": "code",
      "source": [
        "len(docs)"
      ],
      "metadata": {
        "id": "7k1gm1sak6_h"
      },
      "execution_count": null,
      "outputs": []
    },
    {
      "cell_type": "markdown",
      "source": [
        "**Format Docs**"
      ],
      "metadata": {
        "id": "aZjTD-uyjWCM"
      }
    },
    {
      "cell_type": "code",
      "source": [
        "def format_docs(docs):\n",
        "    return \"\\n\\n\".join(doc.page_content for doc in docs)\n"
      ],
      "metadata": {
        "id": "a9C1xEgBgz5f"
      },
      "execution_count": null,
      "outputs": []
    },
    {
      "cell_type": "code",
      "source": [
        "from langchain.vectorstores import Chroma\n",
        "retriever = db.as_retriever(search_kwargs={\"k\": 6})"
      ],
      "metadata": {
        "id": "AptKH_D_hv0g"
      },
      "execution_count": null,
      "outputs": []
    },
    {
      "cell_type": "markdown",
      "source": [
        "**RAG Chain**"
      ],
      "metadata": {
        "id": "s7swWESljd_N"
      }
    },
    {
      "cell_type": "code",
      "source": [
        "rag_chain = (\n",
        "    {\"context\": retriever | format_docs, \"question\": RunnablePassthrough()}\n",
        "    | prompt\n",
        "    | llm\n",
        "    | StrOutputParser()\n",
        ")"
      ],
      "metadata": {
        "id": "GN9FqjwnhBX0"
      },
      "execution_count": null,
      "outputs": []
    },
    {
      "cell_type": "code",
      "source": [
        "for chunk in rag_chain.stream(\"How Emergent Abilities Relate to Scaling Laws?\"):\n",
        "    print(chunk, end=\"\", flush=True)"
      ],
      "metadata": {
        "collapsed": true,
        "id": "UMU6LZ5hiHkH"
      },
      "execution_count": null,
      "outputs": []
    },
    {
      "cell_type": "markdown",
      "source": [
        "**Customizing the Prompt**"
      ],
      "metadata": {
        "id": "gmC7LkWrjjAF"
      }
    },
    {
      "cell_type": "code",
      "source": [
        "from langchain_core.prompts import PromptTemplate\n",
        "\n",
        "template = \"\"\"Use the following pieces of context to answer the question at the end.\n",
        "If you don't know the answer, just say that you don't know, don't try to make up an answer.\n",
        "Use three sentences maximum and keep the answer as concise as possible.\n",
        "Always say \"thanks for asking me the question!\" at the end of the answer.\n",
        "\n",
        "{context}\n",
        "\n",
        "Question: {question}\n",
        "\n",
        "Helpful Answer:\"\"\"\n",
        "custom_rag_prompt = PromptTemplate.from_template(template)\n",
        "\n",
        "rag_chain = (\n",
        "    {\"context\": retriever | format_docs, \"question\": RunnablePassthrough()}\n",
        "    | custom_rag_prompt\n",
        "    | llm\n",
        "    | StrOutputParser()\n",
        ")\n",
        "\n",
        "rag_chain.invoke(\"explain the background for LLMs?\")"
      ],
      "metadata": {
        "collapsed": true,
        "id": "lPzs1kcyiVtN"
      },
      "execution_count": null,
      "outputs": []
    },
    {
      "cell_type": "markdown",
      "source": [
        "### Congratulations you completed Final Module !!"
      ],
      "metadata": {
        "id": "iCJ84CA_dv2x"
      }
    }
  ]
}