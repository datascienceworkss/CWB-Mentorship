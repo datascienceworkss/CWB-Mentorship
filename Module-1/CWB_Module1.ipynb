{
  "nbformat": 4,
  "nbformat_minor": 0,
  "metadata": {
    "colab": {
      "provenance": []
    },
    "kernelspec": {
      "name": "python3",
      "display_name": "Python 3"
    },
    "language_info": {
      "name": "python"
    }
  },
  "cells": [
    {
      "cell_type": "markdown",
      "source": [
        "## Requirements"
      ],
      "metadata": {
        "id": "pFvlBuQWq4lY"
      }
    },
    {
      "cell_type": "code",
      "execution_count": 7,
      "metadata": {
        "id": "5Jn3BnmwbIQY"
      },
      "outputs": [],
      "source": [
        "#!pip install langchain\n",
        "#!pip install pypdf\n",
        "#!pip install langchain_community"
      ]
    },
    {
      "cell_type": "markdown",
      "source": [
        "## Document Loading"
      ],
      "metadata": {
        "id": "urJ_2KsTq-eD"
      }
    },
    {
      "cell_type": "markdown",
      "source": [
        "Load PDF using pypdf into array of documents, where each document contains the page content and metadata with page number."
      ],
      "metadata": {
        "id": "vImtISFCqtKx"
      }
    },
    {
      "cell_type": "code",
      "source": [
        "from langchain_community.document_loaders import PyPDFLoader\n",
        "\n",
        "loader = PyPDFLoader(\"paul_graham_essay.pdf\")\n",
        "pages = loader.load()"
      ],
      "metadata": {
        "id": "e7IdZYvOlmm-"
      },
      "execution_count": 13,
      "outputs": []
    },
    {
      "cell_type": "code",
      "source": [
        "pages[0]"
      ],
      "metadata": {
        "colab": {
          "base_uri": "https://localhost:8080/"
        },
        "id": "QU0ivgp1mZYA",
        "outputId": "3370b4db-6ba1-478f-ed05-f0bfbe31b037"
      },
      "execution_count": 14,
      "outputs": [
        {
          "output_type": "execute_result",
          "data": {
            "text/plain": [
              "Document(page_content='What I Worked On\\nFebruary 2021\\nBefore college the two main things I worked on, outside of school, were writing \\nand programming. I didn\\'t write essays. I wrote what beginning writers were \\nsupposed to write then, and probably still are: short stories. My stories were \\nawful. They had hardly any plot, just characters with strong feelings, which I \\nimagined made them deep.\\nThe first programs I tried writing were on the IBM 1401 that our school district\\nused for what was then called \"data processing.\" This was in 9th grade, so I was\\n13 or 14. The school district\\'s 1401 happened to be in the basement of our \\njunior high school, and my friend Rich Draves and I got permission to use it. It\\nwas like a mini Bond villain\\'s lair down there, with all these alien-looking \\nmachines — CPU, disk drives, printer, card reader — sitting up on a raised floor\\nunder bright fluorescent lights.\\nThe language we used was an early version of Fortran. You had to type programs \\non punch cards, then stack them in the card reader and press a button to load \\nthe program into memory and run it. The result would ordinarily be to print \\nsomething on the spectacularly loud printer.\\nI was puzzled by the 1401. I couldn\\'t figure out what to do with it. And in \\nretrospect there\\'s not much I could have done with it. The only form of input to\\nprograms was data stored on punched cards, and I didn\\'t have any data stored on \\npunched cards. The only other option was to do things that didn\\'t rely on any \\ninput, like calculate approximations of pi, but I didn\\'t know enough math to do \\nanything interesting of that type. So I\\'m not surprised I can\\'t remember any \\nprograms I wrote, because they can\\'t have done much. My clearest memory is of \\nthe moment I learned it was possible for programs not to terminate, when one of \\nmine didn\\'t. On a machine without time-sharing, this was a social as well as a \\ntechnical error, as the data center manager\\'s expression made clear.\\nWith microcomputers, everything changed. Now you could have a computer sitting \\nright in front of you, on a desk, that could respond to your keystrokes as it \\nwas running instead of just churning through a stack of punch cards and then \\nstopping. [1]\\nThe first of my friends to get a microcomputer built it himself. It was sold as \\na kit by Heathkit. I remember vividly how impressed and envious I felt watching \\nhim sitting in front of it, typing programs right into the computer.\\nComputers were expensive in those days and it took me years of nagging before I \\nconvinced my father to buy one, a TRS-80, in about 1980. The gold standard then \\nwas the Apple II, but a TRS-80 was good enough. This was when I really started \\nprogramming. I wrote simple games, a program to predict how high my model \\nrockets would fly, and a word processor that my father used to write at least \\none book. There was only room in memory for about 2 pages of text, so he\\'d write\\n2 pages at a time and then print them out, but it was a lot better than a \\ntypewriter.\\nThough I liked programming, I didn\\'t plan to study it in college. In college I \\nwas going to study philosophy, which sounded much more powerful. It seemed, to \\nmy naive high school self, to be the study of the ultimate truths, compared to \\nwhich the things studied in other fields would be mere domain knowledge. What I \\ndiscovered when I got to college was that the other fields took up so much of \\nthe space of ideas that there wasn\\'t much left for these supposed ultimate \\ntruths. All that seemed left for philosophy were edge cases that people in other\\nfields felt could safely be ignored.\\nI couldn\\'t have put this into words when I was 18. All I knew at the time was ', metadata={'source': 'paul_graham_essay.pdf', 'page': 0})"
            ]
          },
          "metadata": {},
          "execution_count": 14
        }
      ]
    },
    {
      "cell_type": "markdown",
      "source": [
        "An advantage of this approach is that documents can be retrieved with page numbers."
      ],
      "metadata": {
        "id": "gnBBYSWPrl-K"
      }
    },
    {
      "cell_type": "markdown",
      "source": [
        "## Text Splitters"
      ],
      "metadata": {
        "id": "nWauPuDkrsru"
      }
    },
    {
      "cell_type": "code",
      "source": [
        "from langchain_text_splitters import RecursiveCharacterTextSplitter"
      ],
      "metadata": {
        "id": "QYOv-Wyfr1jw"
      },
      "execution_count": 9,
      "outputs": []
    },
    {
      "cell_type": "code",
      "source": [
        "text_splitter = RecursiveCharacterTextSplitter(\n",
        "    chunk_size=100,\n",
        "    chunk_overlap=20,\n",
        "    length_function=len,\n",
        "    is_separator_regex=False,\n",
        ")"
      ],
      "metadata": {
        "id": "czlZRJq2r2TT"
      },
      "execution_count": 10,
      "outputs": []
    },
    {
      "cell_type": "markdown",
      "source": [
        "## Split the text into chunks"
      ],
      "metadata": {
        "id": "BEU02TdlteGQ"
      }
    },
    {
      "cell_type": "code",
      "source": [
        "chunks = []\n",
        "for page in pages:\n",
        "    page_text = page.page_content\n",
        "    page_chunks = text_splitter.split_text(page_text)\n",
        "    chunks.extend(page_chunks)"
      ],
      "metadata": {
        "id": "L0TLTHtkr8Ig"
      },
      "execution_count": 17,
      "outputs": []
    },
    {
      "cell_type": "markdown",
      "source": [
        "## Print Top 5 chunks"
      ],
      "metadata": {
        "id": "ry1uE_r4tagd"
      }
    },
    {
      "cell_type": "code",
      "source": [
        "for i, chunk in enumerate(chunks):\n",
        "   if i<5:\n",
        "      print(f\"Chunk {i + 1}:\")\n",
        "      print(chunk)\n",
        "      print(\"\\n\")\n",
        "      i=i+1"
      ],
      "metadata": {
        "colab": {
          "base_uri": "https://localhost:8080/"
        },
        "id": "Q7QwUf4rsBIV",
        "outputId": "a86248ec-c24c-4d2a-dd76-2cb0b1da773d"
      },
      "execution_count": 22,
      "outputs": [
        {
          "output_type": "stream",
          "name": "stdout",
          "text": [
            "Chunk 1:\n",
            "What I Worked On\n",
            "February 2021\n",
            "\n",
            "\n",
            "Chunk 2:\n",
            "February 2021\n",
            "Before college the two main things I worked on, outside of school, were writing\n",
            "\n",
            "\n",
            "Chunk 3:\n",
            "and programming. I didn't write essays. I wrote what beginning writers were\n",
            "\n",
            "\n",
            "Chunk 4:\n",
            "supposed to write then, and probably still are: short stories. My stories were\n",
            "\n",
            "\n",
            "Chunk 5:\n",
            "awful. They had hardly any plot, just characters with strong feelings, which I\n",
            "\n",
            "\n"
          ]
        }
      ]
    },
    {
      "cell_type": "markdown",
      "source": [
        "## Congratulations you completed Module-1 !!"
      ],
      "metadata": {
        "id": "II8mTmR7tquJ"
      }
    }
  ]
}